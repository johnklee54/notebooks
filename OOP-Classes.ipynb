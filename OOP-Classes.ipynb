{
 "cells": [
  {
   "cell_type": "markdown",
   "id": "5e647c21",
   "metadata": {},
   "source": [
    "## Object Oriented Programming - OOP\n",
    "\n",
    "Object Oriented programming is a programming technique which allows developers to build reusable code.  We can use OOP to create representations of real objects with code. \n",
    "\n",
    "We need a few new terms to get us started.\n",
    "\n",
    "\n",
    "**What is an object?**\n",
    "**Objects** - we are surrounded by objects in real life. Everything we see is pretty much an object. For example, a person is an object and we can describe a person with attributes which all people have. A person's name and race, A person's height and weight.  \n",
    "\n",
    "**Class** - In programming we can create and object by using a class. A class is a blueprint for creating objects. Picture a cookie cutter that can cut out a certain type of cookie, A cookie's size, shape etc... We can use the cookie cutter to continue to stamp out as many cookies as we want. We do the same when using a class. once we define a class, we can use it as many times as we want to create as many of the objects the class defines as we want. \n",
    "\n",
    "**Attributes** - Attributes are simply the description of an object. What makes up the object? We will look at a Class which defines cars in lecture. With a car, the attributes may be make, model, year and color. These are items we can use to describe every car we create. \n",
    "\n",
    "**Methods** – Methods will be used to represent actions. In our example, the methods for a car may be to drive and stop. These are actions which all cars can perform. \n",
    "\n",
    "To quickly review, we will create a **Class** to create specific object(s) (think of it as a blueprint, or cookie cutter). Within the class we will define **attributes** for object which describe the object and finally we will create **methods** which represent what the object can do.  \n",
    "\n"
   ]
  },
  {
   "cell_type": "markdown",
   "id": "eccda7b8",
   "metadata": {},
   "source": [
    "Lets begin with understanding how classes are defined in Python. There are two ways to define a class in Python\n",
    "1. define the class in the main program\n",
    "2. define the class in a separate file and import it to the main program\n",
    "\n",
    "We will use the second way in this example. By defining a class in a separate file, we are able to reuse this class any time we need it. This is one of the great things about using classes, the ability to reuse code. Why reinvent the wheel each time we need a wheel?\n",
    "\n",
    "So lets take a look. I recommend you launch your Python development and create the files as we go. "
   ]
  },
  {
   "cell_type": "code",
   "execution_count": null,
   "id": "6bc275e6",
   "metadata": {},
   "outputs": [],
   "source": [
    "# Suppose we want to create a blueprint for creating cars. We could use a class. Create a new file in your Python editor\n",
    "#for the class. Let's name the file car.py\n",
    "\n",
    "# This file is the car class as a separate file, we will create this and later on write a \n",
    "# script to use the class to create different car objects.\n",
    "\n",
    "# define a class using keyword class and it is customary to use a Captial letter for the name\n",
    "\n",
    "class Car:\n",
    "    \n",
    "# Attributes of a car - Describes the car # Use None as a place holder. Be sure to indent the attributes \n",
    "    make = None # we use none as a placeholder right now so Python does not complain\n",
    "    model = None\n",
    "    year = None\n",
    "    color = None\n",
    "    \n",
    "#The above represents the four attributes of each car we create. Each car will have a make, model, year and color. \n",
    "# Once we dfeined the attributes of the Car class, next we want to define what the car can do. We do this by defining methods \n",
    "# for the car. Two methods every car can do are drive and stop. \n",
    "# to define the methods we have to include an argument called self. Self refers to the object it is working on. Later on when\n",
    "# we use this class, self will be the new object the class is creating\n",
    "\n",
    "    def drive(self): # Self refers to the object that is using this method\n",
    "        print(\"This car is driving\")\n",
    "    def stop(self): \n",
    "        print(\"This car is stopped\")\n"
   ]
  },
  {
   "cell_type": "markdown",
   "id": "ac411980",
   "metadata": {},
   "source": [
    "The above code is not designed to produce any output.\n",
    "\n",
    "**Please note the captial letter for the class name. That pretty much a standard with creating classes, use a capital letter.**\n",
    "\n",
    "We will need a couple of more items in the class file before we can use it. There is a default method to create in a class file. It is a method sometimes called the \"Dunder init\" method. \n",
    "It is also known as the **\"constructor\"** method for a class. It is a special method that is called automatically when an object of a class is created. the dunder init references the format of this special method. \\__init\\__. The method begins and ends with \"double underscores\".\n",
    "\n",
    "Let's create our dunder init method. The code from above is duplciated below, you can just add the dunder init to your existing file\n",
    "We will use this and place all of the attributes from above. into this method so when we pass\n",
    "#arguments to it, we can use it to create a new  car object. notice we also included the 4 attributes as arguments to the \\__init\\__ method. We add the attributes into the def statement as agrugments so when we receive them we can create a new car with those atributes.\n",
    "\n",
    "We will receive arguments when we create new car objects, but we need to pass them in as arguments to the \\__init\\__ method. \n",
    " We will have to  preface the attributes with the word self. in front of each one. Self refers to the object we are currently creating"
   ]
  },
  {
   "cell_type": "code",
   "execution_count": null,
   "id": "300a4650",
   "metadata": {},
   "outputs": [],
   "source": [
    "class Car:\n",
    "        \n",
    "\n",
    "    def __init__(self,make,model,year,color):\n",
    "        self.make = make\n",
    "        self.model = model\n",
    "        self.year = year\n",
    "        self.color = color\n",
    "        \n",
    "    def drive(self): # Self refers to the object that is using this method\n",
    "        print(\"This car is driving\")\n",
    "    def stop(self): \n",
    "        print(\"This car is stopped\")\n",
    "        "
   ]
  },
  {
   "cell_type": "markdown",
   "id": "a1d57b4b",
   "metadata": {},
   "source": [
    "The class code has been changed a bit to include the attributes in \\__init\\__.  This will let us create new car object and have their attributes associated with them.  This file is ready to be saved. save it with a name like car.py and let's move on to using the file. \n",
    "Create a new python file called use_car.py and in the first line of code, use an import statment to import your class. "
   ]
  },
  {
   "cell_type": "markdown",
   "id": "eedb0748",
   "metadata": {},
   "source": [
    "from car import Car"
   ]
  },
  {
   "cell_type": "markdown",
   "id": "e37e1e37",
   "metadata": {},
   "source": [
    "In this example we will use the code in one file since it is a Jupyter Notebook. Let's create our first car. The first car named car1 below is going to be a 2022 red Ferrari SF90 Spider. The second car named car2 is a 2022 Yellow Ferrari F8 Tributo. To create a car, simply call the Cars() you created in the car.py file and pass to it the 4 required attrbutes. if you omit the attributes, an error will occur Run the code in the box below to see the error. Python will let you know 4 arguments are required for the \\__init\\__ method. "
   ]
  },
  {
   "cell_type": "code",
   "execution_count": null,
   "id": "a0758705",
   "metadata": {},
   "outputs": [],
   "source": [
    "class Car:\n",
    "        \n",
    "\n",
    "    def __init__(self,make,model,year,color):\n",
    "        self.make = make\n",
    "        self.model = model\n",
    "        self.year = year\n",
    "        self.color = color\n",
    "        \n",
    "    def drive(self): # Self refers to the object that is using this method\n",
    "        print(\"This car is driving\")\n",
    "    def stop(self): \n",
    "        print(\"This car is stopped\")\n",
    "        \n",
    "        \n",
    "## the code below should go into your use_car.py file along with your import statement from the above block\n",
    "\n",
    "car1=Car()\n",
    "        \n"
   ]
  },
  {
   "cell_type": "markdown",
   "id": "1940fa8e",
   "metadata": {},
   "source": [
    "Now let's create the car1 and car2 object and pass the required arguments to it"
   ]
  },
  {
   "cell_type": "code",
   "execution_count": null,
   "id": "2bbad979",
   "metadata": {},
   "outputs": [],
   "source": [
    "\n",
    "        \n",
    "## the code below should go into your use_car.py file along with your import statement from the above block\n",
    "\n",
    "car1=Car(\"Ferrari\",\"SF90 Spider\",\"2022\",\"Red\")\n",
    "car2= Car(\"Ferrari\",\"F8 Tributo\",\"2022\",\"Yellow\")\n",
    "\n"
   ]
  },
  {
   "cell_type": "markdown",
   "id": "ce9adc9d",
   "metadata": {},
   "source": [
    "The above code box has successfully created two cars (objects) with the required arguments the class required. Now to test out your objects, we can simply print out the car's attributes."
   ]
  },
  {
   "cell_type": "code",
   "execution_count": null,
   "id": "5c0ec3b0",
   "metadata": {},
   "outputs": [],
   "source": [
    "print(car1.make)\n",
    "print(car1.model)\n",
    "print(car1.year)\n",
    "print(car1.color)\n",
    "\n"
   ]
  },
  {
   "cell_type": "code",
   "execution_count": null,
   "id": "d05709af",
   "metadata": {},
   "outputs": [],
   "source": [
    "print(car2.make)\n",
    "print(car2.model)\n",
    "print(car2.year)\n",
    "print(car2.color)"
   ]
  },
  {
   "cell_type": "markdown",
   "id": "4d6b6347",
   "metadata": {},
   "source": [
    "As you can see, we can now just print the object and its attribute to see the arguments we provided when creating the car boject. Now let's see what the car can do. We will use the methods drive and stop  we defined in the class file.  "
   ]
  },
  {
   "cell_type": "code",
   "execution_count": null,
   "id": "20c80f41",
   "metadata": {},
   "outputs": [],
   "source": [
    "car1.drive()\n",
    "car2.stop()"
   ]
  },
  {
   "cell_type": "markdown",
   "id": "258f97a8",
   "metadata": {},
   "source": [
    "Notice the difference between accessing an attribute and method. When accessing the method we must call the method with \\()"
   ]
  },
  {
   "cell_type": "markdown",
   "id": "e5b39ea7",
   "metadata": {},
   "source": [
    "Let's add a bit more specific information into our methods. for the next bit of code, please open your car.py file to update the code, or you can create a new file and just import the new class file in the use_car.py file. "
   ]
  },
  {
   "cell_type": "code",
   "execution_count": null,
   "id": "34b7f19f",
   "metadata": {},
   "outputs": [],
   "source": [
    "class Car:\n",
    "        \n",
    "\n",
    "    def __init__(self,make,model,year,color):\n",
    "        self.make = make\n",
    "        self.model = model\n",
    "        self.year = year\n",
    "        self.color = color\n",
    "        \n",
    "    def drive(self): # Self refers to the object that is using this method\n",
    "         print(\"The \"+self.model+\" is drving\") # We can also add the attribute directly to the method.\n",
    "    def stop(self): \n",
    "        print(\"The \"+self.model+\" is stopped\")\n",
    "        \n",
    "        "
   ]
  },
  {
   "cell_type": "markdown",
   "id": "18204a95",
   "metadata": {},
   "source": [
    "This time when we run the uise_car.py file again, we see new outputs for the method of drive\\() and stop\\()"
   ]
  },
  {
   "cell_type": "code",
   "execution_count": null,
   "id": "1525642f",
   "metadata": {},
   "outputs": [],
   "source": [
    "car1=Car(\"Ferrari\",\"SF90 Spider\",\"2022\",\"Red\")\n",
    "car2= Car(\"Ferrari\",\"F8 Tributo\",\"2022\",\"Yellow\")\n",
    "car1.drive()\n",
    "car2.stop()"
   ]
  },
  {
   "cell_type": "markdown",
   "id": "c9c941ee",
   "metadata": {},
   "source": [
    "We can also use *fstrings* for the print statement in the Car class"
   ]
  },
  {
   "cell_type": "code",
   "execution_count": null,
   "id": "48937c56",
   "metadata": {},
   "outputs": [],
   "source": [
    "class Car:\n",
    "        \n",
    "\n",
    "    def __init__(self,make,model,year,color):\n",
    "        self.make = make\n",
    "        self.model = model\n",
    "        self.year = year\n",
    "        self.color = color\n",
    "        \n",
    "    def drive(self): # Self refers to the object that is using this method\n",
    "         print(f\"The {self.model} is drving\") # We can also add the attribute directly to the method.\n",
    "    def stop(self): \n",
    "        print(f\"The {self.model} is stopped\")"
   ]
  },
  {
   "cell_type": "code",
   "execution_count": null,
   "id": "3f083c63",
   "metadata": {},
   "outputs": [],
   "source": [
    "car1=Car(\"Ferrari\",\"SF90 Spider\",\"2022\",\"Red\")\n",
    "car2= Car(\"Ferrari\",\"F8 Tributo\",\"2022\",\"Yellow\")\n",
    "car1.drive()\n",
    "car2.stop()"
   ]
  },
  {
   "cell_type": "markdown",
   "id": "1c7e0cd2",
   "metadata": {},
   "source": [
    "OK, now you have the basics of creating a class, please also review the chapter on Object Orient programming. We will continue the next lesson with more on OOP."
   ]
  }
 ],
 "metadata": {
  "kernelspec": {
   "display_name": "Python 3 (ipykernel)",
   "language": "python",
   "name": "python3"
  },
  "language_info": {
   "codemirror_mode": {
    "name": "ipython",
    "version": 3
   },
   "file_extension": ".py",
   "mimetype": "text/x-python",
   "name": "python",
   "nbconvert_exporter": "python",
   "pygments_lexer": "ipython3",
   "version": "3.9.12"
  }
 },
 "nbformat": 4,
 "nbformat_minor": 5
}
