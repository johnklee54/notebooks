{
 "cells": [
  {
   "cell_type": "markdown",
   "id": "ba2a4479",
   "metadata": {},
   "source": [
    "# Input, Processing , Output - A basic information processing cycle\n",
    "\n",
    "In order to get a result from a program, we must enter some type of data into the program. This is called Input. Input is data a program receives. The progam uses the input to performs some operations and the results from the operation(s) is called output.  \n",
    "\n",
    "This notebook wil cover basic ways we can perform processing by supplying input, peforming a process and reviewing the output. \n",
    "for example , take a look at the code box below, the program is designed to compute how much you should expect your paycheck to  be if you are paid $15.00/hour. Depending on how many hours you enter, your paycheck is simply calculated as \n",
    "\n",
    "hours * hourly_rate = paycheck<br/>\n",
    "Run the code below by selecting the Run icon on the menu bar above, enter **40** hours into the input box.\n",
    "\n",
    "Don't worry too much about how the program was coded, you will learn this and much more throughout the course. \n"
   ]
  },
  {
   "cell_type": "code",
   "execution_count": null,
   "id": "8d6a17f9",
   "metadata": {},
   "outputs": [
    {
     "name": "stdout",
     "output_type": "stream",
     "text": [
      "Please enter hours worked\n"
     ]
    }
   ],
   "source": [
    "print('Please enter hours worked')\n",
    "hours= input()\n",
    "hourly_rate = 15\n",
    "paycheck = int(hours) * hourly_rate\n",
    "print(\"Your Paycheck for working\", hours ,' hours is $',paycheck)\n"
   ]
  },
  {
   "cell_type": "markdown",
   "id": "dfb748ee",
   "metadata": {},
   "source": [
    "**Congratulations** \n",
    "\n",
    "You have run your first Python program which processed data and provided output. Let's look at what happened as it relates to the processing cycle.\n",
    "\n",
    "When you ran the program, the program asked for your input.\n",
    "\n",
    "\"Please enter hours worked\"\n",
    "\n",
    "You were asked to type in **40**. This is the **input** supplied to the program. \n",
    "The program itself has the hourly rate specified as 15 and when 40 is inputted to the program, the program processes the input by multiplying the inputted hours worked (40) by the hourly_rate of $15 and print out the total amount. \n",
    "\n",
    "\"Your Paycheck for working 40  hours is $ 600\".  This is the output of the progam\n",
    "\n",
    "There are many ways to get input into a program and we will explore some of them in this chapter\n",
    " "
   ]
  },
  {
   "cell_type": "markdown",
   "id": "261b02a7",
   "metadata": {},
   "source": [
    "## For Fun \n",
    "\n",
    "Try and see if you can modify the code below and get the program to ask for both the hours worked and the hourly rate. Notice the \"#\" in the program code below ? Those are called comments in Python and anything following the \"#\" symbol is not processed. Comments are useful to explain how a program works. More on comments later. "
   ]
  },
  {
   "cell_type": "code",
   "execution_count": null,
   "id": "fd1bc7a1",
   "metadata": {},
   "outputs": [],
   "source": [
    "print('Please enter hours worked')\n",
    "hours= input()\n",
    "\n",
    "#what statement would cause Python to ask for an input?\n",
    "print('Please enter the hourly rate')\n",
    "\n",
    "#replace my line below with the correct code\n",
    "hourly_rate = _ _ _ _ _ \n",
    "\n",
    "# I modified the paycheck calculation for you, more on how this works later\n",
    "paycheck = int(hours) * int(hourly_rate)\n",
    "\n",
    "print(\"Your Paycheck for working\", hours ,' hours is $',paycheck)\n"
   ]
  },
  {
   "cell_type": "markdown",
   "id": "932cce56",
   "metadata": {},
   "source": [
    "## Variables\n",
    "\n",
    "What exacly is a variable? A book definition of a variable is **\"A variable is a name that represents a storage location in the computer's memory.\"**\n",
    "A simplier way to illustrate what a variable is may be equating it to a placeholder in a program. The placeholder will represent a value for the program and is considered input to program. In the original program above, there were two variables. **hours** and **hourly_rate**. The act of placing data into a variable is called assigning a value to a variable. If you recall, the variable hours requested the user to input a value for hours worked, while 15 was inserted into hourly_rate within the program. There are different ways to assign data to a variable and we will see a few more along the way. <br/>\n",
    "#### Reference Vs. Hold\n",
    "Quick note to explain a variable in Python. Variables exists in all programming languages. In most programming languages assign a value to a varible, it is stored in the varaible's memory location. In Python, a variable's memory location holds a memory address of another location. When a value is assigned to a variable in Python, the value is held in a different location and the varaible will hold the address to the location of the value. That is why in Python we do not say a variable \"holds\" a value, instead we say a variable \"references\" a value. \n",
    "\n",
    "### How do we choose the name of a variable?\n",
    "A varaible can really be any name we want, but there are some rules we have to follow in Python when naming variables\n",
    "\n",
    "A variable name cannot contain spaces\n",
    "A variable name cannot be one of Python's keywords. \n",
    "The first character of a variable name must be a letter or and underscore _\n",
    "After the first character, letters, numbers 0-9 or underscores are all valid\n",
    "Finally Uppercase and Lowercase are distinct. This simply means Hours and hours are two separate variable names\n",
    "\n",
    "It is generally a good idea to name a variable something which indicates it's purpose. Our program example above used hours to reference hours worked and hourly_rate to reference the amount of money a person is paid per hour. We could have easily used  x and y to reference the same , but x and y do not give us a indication of what the variable will reference. <br/>\n",
    "In the code below I want to print the answer to 12 \\* 12 \\* 34\\*12 \\* (12-6) + 12. If you run the code box below, you will see Python process the formula and print out the answer 352524."
   ]
  },
  {
   "cell_type": "code",
   "execution_count": null,
   "id": "e4af13ba",
   "metadata": {},
   "outputs": [],
   "source": [
    "print(12*12*34*12*(12-6)+12)\n"
   ]
  },
  {
   "cell_type": "markdown",
   "id": "756a4600",
   "metadata": {},
   "source": [
    "But what if I wanted to use the same formula but instead of using 12 , I want to use 15? I can easily change the formula replacing 12 with 15, right ?"
   ]
  },
  {
   "cell_type": "code",
   "execution_count": null,
   "id": "7058711d",
   "metadata": {},
   "outputs": [],
   "source": [
    "print(15*15*34*15*(15-6)+15)"
   ]
  },
  {
   "cell_type": "markdown",
   "id": "2db1c666",
   "metadata": {},
   "source": [
    "In order to change the formula to use 15, we have to go through and carefully replace 12 with 15 a total of 5 times. While this is a simple formula and realtively easy to do, It is still cumbersome and we could make a mistake. Wouldn't it be easier to change the 12 to 15 just once and have the program do the rest? Run the code box below. the answer should be exactly the same as the answer we received when we ran the code box above with 12 in the formula (352524)"
   ]
  },
  {
   "cell_type": "code",
   "execution_count": null,
   "id": "114e7736",
   "metadata": {},
   "outputs": [],
   "source": [
    "number=12\n",
    "print(number * number * 34*number*(number -6) + number)"
   ]
  },
  {
   "cell_type": "markdown",
   "id": "48d41d7f",
   "metadata": {},
   "source": [
    "Now, change the code below so that the variable number = 15 by replacing the 12 with 15. Run the code and see the answer change (1032765). Notice the use of a comment again to let the user know what to do. "
   ]
  },
  {
   "cell_type": "code",
   "execution_count": null,
   "id": "4fc0bbd1",
   "metadata": {},
   "outputs": [],
   "source": [
    "# replace the 12 with 15 number and run the code.  Do you get the answer 1032765?\n",
    "number= 12\n",
    "print(number * number * 34*number*(number -6) + number)"
   ]
  },
  {
   "cell_type": "markdown",
   "id": "ed21fbae",
   "metadata": {},
   "source": [
    "**Congratulations** you have just assigned a value referenced by a variable in Python.\n",
    "As you can see, by assigning a value for a varaible to reference and using the variable in the formula in place of entering the number makes updating the formula much easier. All we have to do is to change the value referenced by the variable and rerun the code. Variables make our lives much easier as programmers.  From this point forward, we will use variables in our programs to reference a value. "
   ]
  },
  {
   "cell_type": "markdown",
   "id": "e3466aa0",
   "metadata": {},
   "source": [
    "[![Binder](https://mybinder.org/badge_logo.svg)](https://mybinder.org/v2/gh/johnklee54/notebooks/HEAD?labpath=Input-Processing-Output.ipynb)"
   ]
  }
 ],
 "metadata": {
  "kernelspec": {
   "display_name": "Python 3 (ipykernel)",
   "language": "python",
   "name": "python3"
  },
  "language_info": {
   "codemirror_mode": {
    "name": "ipython",
    "version": 3
   },
   "file_extension": ".py",
   "mimetype": "text/x-python",
   "name": "python",
   "nbconvert_exporter": "python",
   "pygments_lexer": "ipython3",
   "version": "3.9.7"
  }
 },
 "nbformat": 4,
 "nbformat_minor": 5
}
