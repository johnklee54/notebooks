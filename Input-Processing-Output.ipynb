{
 "cells": [
  {
   "cell_type": "markdown",
   "id": "ba2a4479",
   "metadata": {},
   "source": [
    "# Input, Processing , Output - A basic information processing cycle\n",
    "\n",
    "In order to get a result from a program, we must enter some type of data into the program. This is called Input. Input is data that a program receives. The progam performs some operations and the results from the operation(s) is called output.  \n",
    "\n",
    "This notebook wil cover basic ways we can perform processing by supplying input and reviewing the output. \n",
    "for example , take a look at the code box below, the program is designed to compute how much you paycheck will be if you are paid $15.00/hour. Depending on how many hours you enter, your paycheck is simply calculated as \n",
    "\n",
    "hours * wage = paycheck\n",
    "Run the code below by selecting the Run icon on the menu bar above, enter 40 hours into the input box.\n",
    "\n",
    "Don't worry too much about how the program was coded, you will learn this and much more throughout the course. \n"
   ]
  },
  {
   "cell_type": "code",
   "execution_count": null,
   "id": "8d6a17f9",
   "metadata": {},
   "outputs": [],
   "source": [
    "print('Please enter hours worked')\n",
    "hours= input()\n",
    "hourly_rate = 15\n",
    "paycheck = int(hours) * hourly_rate\n",
    "print(\"Your Paycheck for working\", hours ,' hours is $',paycheck)\n"
   ]
  },
  {
   "cell_type": "markdown",
   "id": "dfb748ee",
   "metadata": {},
   "source": [
    "Congratulations you have run your first program. Let's look at what happened as it relates to the the processing cycle.\n",
    "\n",
    "when you ran the program, the program asked for your input.\n",
    "\n",
    "\"Please enter hours worked\"\n",
    "\n",
    "You were asked to type in 40. This is the input supplied to the program. \n",
    "The program itself has the hourly rate specified as 15 and when 40 is inputted to the program, the program's operation is to multiply the inputted hours worked (40) by the hourly_rate of $15 and print out the total amount. \n",
    "\n",
    "\"Your Paycheck for working 40  hours is $ 600\".  This is the output of the progam\n",
    "\n",
    "There are many ways to get input into a program and we will explore some of them in this chapter\n",
    " "
   ]
  },
  {
   "cell_type": "markdown",
   "id": "261b02a7",
   "metadata": {},
   "source": [
    "# For Fun \n",
    "\n",
    "Try and see if you can modify the code above and get the program to ask for both the hours worked and the hourly rate. Notice the \"#\" in the program code below ? Those are called comments in Python and anything following the \"#\" symbol is not processed. Comments are useful to explain how a program works. More on comments later. "
   ]
  },
  {
   "cell_type": "code",
   "execution_count": null,
   "id": "fd1bc7a1",
   "metadata": {},
   "outputs": [],
   "source": [
    "print('Please enter hours worked')\n",
    "hours= input()\n",
    "\n",
    "#what statement would cause Python to ask for an input?\n",
    "print('Please enter the hourly rate')\n",
    "\n",
    "#replace my line below with the correct code\n",
    "hourly_rate = _ _ _ _ _ \n",
    "\n",
    "# I modified the paycheck calculation for you, more on how this works later\n",
    "paycheck = int(hours) * int(hourly_rate)\n",
    "\n",
    "print(\"Your Paycheck for working\", hours ,' hours is $',paycheck)\n"
   ]
  },
  {
   "cell_type": "code",
   "execution_count": null,
   "id": "8730b02d",
   "metadata": {},
   "outputs": [],
   "source": []
  }
 ],
 "metadata": {
  "kernelspec": {
   "display_name": "Python 3 (ipykernel)",
   "language": "python",
   "name": "python3"
  },
  "language_info": {
   "codemirror_mode": {
    "name": "ipython",
    "version": 3
   },
   "file_extension": ".py",
   "mimetype": "text/x-python",
   "name": "python",
   "nbconvert_exporter": "python",
   "pygments_lexer": "ipython3",
   "version": "3.9.7"
  }
 },
 "nbformat": 4,
 "nbformat_minor": 5
}
