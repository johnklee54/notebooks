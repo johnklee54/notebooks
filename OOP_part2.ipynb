{
 "cells": [
  {
   "cell_type": "markdown",
   "id": "1d4e2113",
   "metadata": {},
   "source": [
    "## Object Orient Programming (OOP) continued\n",
    "\n",
    "Continuing the discussion on OOP. At this point, we learned the components of a Class in Python\n",
    "\n",
    "A class is made up of attributes and methods. Attributes describe an object while methods are actions which objects can take. In this example let's get a bit more interactive with the class. Our last example of a class , allowed the user to create a car with make, model, year and color. We added two very static methods - drive and stop. The methods did not do much more than display the status of the oject (car). T\n",
    "\n",
    "Let's look at a more in depth problem and work through creating a class to create circles. We will begin by declaring a class and adding the attributes of the circle.\n",
    "For our circle, there is going to be only one attribute needed and that is the radius. The radius of a circle is a line from the center of the circle to it's perimeter. We can use the radius to solve for several other dimensions of a circle. \n",
    "1.  Diameter - The diameter of a cicle is simply a line from perimeter, through the center and extended to the perimeter. the formula to calculate the diameter of a circle is 2 * radius. \n",
    "2. Area - the area of the circle is simply the area enclosed by the perimeter of a circle. The formula for area is $\\pi$r<sup>2</sup>\n",
    "3. Circumference - The circumference of a circle is the measurement of the perimeter of the circle 2*$\\pi$8*r sometimes expressed as 2$\\pi$r\n",
    "\n",
    "Now we know how to calculate it let's create a class with some attribute and methods.  We begin by declaring a class named Circle. Notice we use the capital \"C\" in Circle? This isn't a hard rule, but it is good form to capitalize the first letter of a class. Once we declare the class, our next step is to define our constructor with the attributes. In Python we use __init__() as the constructor. The constructor is the function which will build our object and assign its attributes. \n"
   ]
  },
  {
   "cell_type": "code",
   "execution_count": 1,
   "id": "f993d9b5",
   "metadata": {},
   "outputs": [],
   "source": [
    "class Circle:\n",
    "    def __init__(self,name,radius):\n",
    "        self.name = name\n",
    "        self.radius = radius\n",
    "        "
   ]
  },
  {
   "cell_type": "markdown",
   "id": "b2b11966",
   "metadata": {},
   "source": [
    "Once we have declared the class and created the constructor, and the ojects attributes, it is time to define the methods for this class. We want to define three methods representing the dimenions of the circle as explained above\n",
    "\n",
    "1. diameter\n",
    "2. area\n",
    "3. circumference \n",
    "\n",
    "To define a method, use the same format as defining a function. Just make sure to include self in the arguments the function accepts. The keyword \"self\" represents the object on which the methods are applied to and must always be present in each of the method definitions. \n",
    "\n",
    "To define the diameter() method:"
   ]
  },
  {
   "cell_type": "code",
   "execution_count": 2,
   "id": "c19dff1c",
   "metadata": {},
   "outputs": [],
   "source": [
    "    def diameter(self):\n",
    "        return 2*self.radius"
   ]
  },
  {
   "cell_type": "markdown",
   "id": "3d016f20",
   "metadata": {},
   "source": [
    "The code block above defines the diameter() method simply as  2* radius. Since we are only doing a simple calculation in this method, we can just return the value of 2* radius back to the main program this way. \n",
    "To define the remaining 2 methods (area and circumference) we will need to be able to have a constant for pi. We can define a varaible called pi in our script and jsut set it equiavlent to 3.14. This would normally be close enough, but in this class, we will use pi imported from the math package.  We will use an import statement to provide access to pi. When importing a package for ue in a class, we import the package prior to defining our class. For the purpose of demonstration, we will re-declare the class Circle again, but import math beforehand. Our code to this point looks like this with the added import and the definition of our methods"
   ]
  },
  {
   "cell_type": "code",
   "execution_count": 3,
   "id": "a7dc1c19",
   "metadata": {},
   "outputs": [],
   "source": [
    "from math import pi\n",
    "class Circle:\n",
    "    def __init__(self,name,radius):\n",
    "        self.name = name\n",
    "        self.radius = radius\n",
    "    \n",
    "    def diameter(self):\n",
    "        return 2*self.radius\n",
    "    \n",
    "    def area(self):\n",
    "        return pi*self.radius**2\n",
    "    \n",
    "    def circumference(self):\n",
    "        return 2*pi*self.radius\n"
   ]
  },
  {
   "cell_type": "markdown",
   "id": "dbbb827e",
   "metadata": {},
   "source": [
    "Now our class has been created, the constructor is setup to create the attributes and the methods have all been defined. We can test the attributes required by simply calling the class without any arguments. This should produce a TyoeError and also let us know the expected arguments of the class"
   ]
  },
  {
   "cell_type": "code",
   "execution_count": 4,
   "id": "b604131f",
   "metadata": {},
   "outputs": [
    {
     "ename": "TypeError",
     "evalue": "__init__() missing 2 required positional arguments: 'name' and 'radius'",
     "output_type": "error",
     "traceback": [
      "\u001b[1;31m---------------------------------------------------------------------------\u001b[0m",
      "\u001b[1;31mTypeError\u001b[0m                                 Traceback (most recent call last)",
      "Cell \u001b[1;32mIn[4], line 1\u001b[0m\n\u001b[1;32m----> 1\u001b[0m \u001b[43mCircle\u001b[49m\u001b[43m(\u001b[49m\u001b[43m)\u001b[49m\n",
      "\u001b[1;31mTypeError\u001b[0m: __init__() missing 2 required positional arguments: 'name' and 'radius'"
     ]
    }
   ],
   "source": [
    "Circle()"
   ]
  },
  {
   "cell_type": "markdown",
   "id": "9fe938d4",
   "metadata": {},
   "source": [
    "Looks like our class needs two arguments, the name and the radius. let's create our circle "
   ]
  },
  {
   "cell_type": "code",
   "execution_count": 5,
   "id": "cf9f2e68",
   "metadata": {},
   "outputs": [],
   "source": [
    "circle1 = Circle(\"John's Circle\",15)"
   ]
  },
  {
   "cell_type": "markdown",
   "id": "14be205c",
   "metadata": {},
   "source": [
    "Running the code has created circle1 as John's circle with a radius of 15. Let's print out the attributes of name and radius"
   ]
  },
  {
   "cell_type": "code",
   "execution_count": 6,
   "id": "128bf2d2",
   "metadata": {},
   "outputs": [
    {
     "name": "stdout",
     "output_type": "stream",
     "text": [
      "The name of circle1 is John's Circle\n",
      "The radius of circle1 is 15\n"
     ]
    }
   ],
   "source": [
    "print(f\"The name of circle1 is {circle1. name}\")\n",
    "print(f\"The radius of circle1 is {circle1.radius}\")"
   ]
  },
  {
   "cell_type": "markdown",
   "id": "6cd419f0",
   "metadata": {},
   "source": [
    "Now we have created our first circle with the attributes name and radius, we can ue the methods on the circle. "
   ]
  },
  {
   "cell_type": "code",
   "execution_count": 7,
   "id": "d069bb82",
   "metadata": {},
   "outputs": [
    {
     "name": "stdout",
     "output_type": "stream",
     "text": [
      "The diameter of John's Circle is 30\n",
      "The area of John's Circle is 706.86\n",
      "The circumference of John's Circle is 94.25\n"
     ]
    }
   ],
   "source": [
    "print(f\"The diameter of {circle1.name} is {circle1.diameter()}\")\n",
    "print(f\"The area of {circle1.name} is {circle1.area():.2f}\")\n",
    "print(f\"The circumference of {circle1.name} is {circle1.circumference():.2f}\")"
   ]
  },
  {
   "cell_type": "markdown",
   "id": "2566b066",
   "metadata": {},
   "source": [
    "with a little modification we can change the program to request the input from a user"
   ]
  },
  {
   "cell_type": "code",
   "execution_count": 9,
   "id": "893da041",
   "metadata": {},
   "outputs": [
    {
     "name": "stdout",
     "output_type": "stream",
     "text": [
      "Please enter the name of your circle: John's Circle\n",
      "PLease enter the radius of your circle: 15\n"
     ]
    }
   ],
   "source": [
    "myCircle_name = input(\"Please enter the name of your circle: \")\n",
    "myCircle_rad = float(input(\"PLease enter the radius of your circle: \"))\n",
    "circle1 = Circle(myCircle_name,myCircle_rad)"
   ]
  },
  {
   "cell_type": "markdown",
   "id": "7265bb50",
   "metadata": {},
   "source": [
    "Now we can create a more customized circle"
   ]
  },
  {
   "cell_type": "code",
   "execution_count": 10,
   "id": "81b08261",
   "metadata": {},
   "outputs": [
    {
     "name": "stdout",
     "output_type": "stream",
     "text": [
      "The diameter of John's Circle is 30.0\n",
      "The area of John's Circle is 706.86\n",
      "The circumference of John's Circle is 94.25\n"
     ]
    }
   ],
   "source": [
    "print(f\"The diameter of {circle1.name} is {circle1.diameter()}\")\n",
    "print(f\"The area of {circle1.name} is {circle1.area():.2f}\")\n",
    "print(f\"The circumference of {circle1.name} is {circle1.circumference():.2f}\")"
   ]
  },
  {
   "cell_type": "code",
   "execution_count": null,
   "id": "0aa5450d",
   "metadata": {},
   "outputs": [],
   "source": []
  }
 ],
 "metadata": {
  "kernelspec": {
   "display_name": "Python 3 (ipykernel)",
   "language": "python",
   "name": "python3"
  },
  "language_info": {
   "codemirror_mode": {
    "name": "ipython",
    "version": 3
   },
   "file_extension": ".py",
   "mimetype": "text/x-python",
   "name": "python",
   "nbconvert_exporter": "python",
   "pygments_lexer": "ipython3",
   "version": "3.9.12"
  }
 },
 "nbformat": 4,
 "nbformat_minor": 5
}
